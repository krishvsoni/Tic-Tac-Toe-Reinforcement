{
 "cells": [
  {
   "cell_type": "code",
   "execution_count": 1,
   "id": "fb68b593",
   "metadata": {},
   "outputs": [],
   "source": [
    "import numpy as np\n",
    "import pandas as pd"
   ]
  },
  {
   "cell_type": "code",
   "execution_count": 2,
   "id": "05b938b8",
   "metadata": {},
   "outputs": [],
   "source": [
    "# Helper functions\n",
    "\n",
    "def generate_boards(board, player):\n",
    "    if is_game_over(board):\n",
    "        boards.append(board.flatten())\n",
    "        outcomes.append(get_winner(board))\n",
    "        return\n",
    "    \n",
    "    for i in range(3):\n",
    "        for j in range(3):\n",
    "            if board[i, j] == 0:\n",
    "                new_board = np.copy(board)\n",
    "                new_board[i, j] = player\n",
    "                generate_boards(new_board, 3 - player)\n",
    "\n",
    "def is_game_over(board):\n",
    "    return get_winner(board) != 0 or np.count_nonzero(board) == 9\n",
    "\n",
    "def get_winner(board):\n",
    "    # Check rows\n",
    "    for i in range(3):\n",
    "        if board[i, 0] == board[i, 1] == board[i, 2] != 0:\n",
    "            return board[i, 0]\n",
    "\n",
    "    # Check columns\n",
    "    for j in range(3):\n",
    "        if board[0, j] == board[1, j] == board[2, j] != 0:\n",
    "            return board[0, j]\n",
    "\n",
    "    # Check diagonals\n",
    "    if board[0, 0] == board[1, 1] == board[2, 2] != 0:\n",
    "        return board[0, 0]\n",
    "\n",
    "    if board[0, 2] == board[1, 1] == board[2, 0] != 0:\n",
    "        return board[0, 2]\n",
    "\n",
    "    return 0\n"
   ]
  },
  {
   "cell_type": "code",
   "execution_count": 3,
   "id": "054aebfa",
   "metadata": {},
   "outputs": [],
   "source": [
    "# Generate all possible Tic Tac Toe board configurations\n",
    "boards = []\n",
    "outcomes = []\n",
    "\n",
    "# Q-learning parameters\n",
    "alpha = 0.5  # Learning rate\n",
    "gamma = 0.9  # Discount factor\n",
    "epsilon = 0.1  # Exploration rate\n",
    "\n",
    "# Q-table\n",
    "q_table = np.zeros((19683, 9))  # 3^9 possible states, 9 possible actions per state\n"
   ]
  },
  {
   "cell_type": "code",
   "execution_count": 4,
   "id": "72963890",
   "metadata": {},
   "outputs": [],
   "source": [
    "# Q-learning update\n",
    "def update_q_table(state, action, reward, next_state):\n",
    "    current_q = q_table[state, action]\n",
    "    max_next_q = np.max(q_table[next_state])\n",
    "    new_q = current_q + alpha * (reward + gamma * max_next_q - current_q)\n",
    "    q_table[state, action] = new_q\n"
   ]
  },
  {
   "cell_type": "code",
   "execution_count": 5,
   "id": "5e0d2b9a",
   "metadata": {},
   "outputs": [],
   "source": [
    "# Generate the dataset with RL agent\n",
    "generate_boards(np.zeros((3, 3)), 1)\n",
    "\n",
    "for _ in range(10000):  # Number of RL agent episodes\n",
    "    state = 0  # Starting state\n",
    "    player = 1\n",
    "\n",
    "    while True:\n",
    "        # Epsilon-greedy exploration/exploitation\n",
    "        if np.random.uniform(0, 1) < epsilon:\n",
    "            action = np.random.choice(np.where(boards[state] == 0)[0])\n",
    "        else:\n",
    "            action = np.argmax(q_table[state])\n",
    "\n",
    "        next_state = np.dot(3, state) + (player if boards[state][action] == 0 else 0)\n",
    "        reward = outcomes[next_state]\n",
    "\n",
    "        update_q_table(state, action, reward, next_state)\n",
    "\n",
    "        if is_game_over(np.reshape(boards[next_state], (3, 3))):\n",
    "            break\n",
    "\n",
    "        state = next_state\n",
    "        player = 3 - player\n"
   ]
  },
  {
   "cell_type": "code",
   "execution_count": 6,
   "id": "9aa5ab18",
   "metadata": {},
   "outputs": [],
   "source": [
    "# Create the dataset\n",
    "dataset = pd.DataFrame(np.concatenate((np.array(boards), np.array(outcomes).reshape(-1, 1)), axis=1), columns=['1', '2', '3', '4', '5', '6', '7', '8', '9', 'Outcome'])\n",
    "\n",
    "# Save the dataset to a CSV file\n",
    "dataset.to_csv('tic_tac_toe_dataset.csv', index=False)\n"
   ]
  },
  {
   "cell_type": "code",
   "execution_count": null,
   "id": "bbc2f832",
   "metadata": {},
   "outputs": [],
   "source": []
  }
 ],
 "metadata": {
  "kernelspec": {
   "display_name": "Python 3 (ipykernel)",
   "language": "python",
   "name": "python3"
  },
  "language_info": {
   "codemirror_mode": {
    "name": "ipython",
    "version": 3
   },
   "file_extension": ".py",
   "mimetype": "text/x-python",
   "name": "python",
   "nbconvert_exporter": "python",
   "pygments_lexer": "ipython3",
   "version": "3.11.3"
  }
 },
 "nbformat": 4,
 "nbformat_minor": 5
}
